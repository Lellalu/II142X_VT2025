{
 "cells": [
  {
   "cell_type": "code",
   "execution_count": 1,
   "id": "0c864c99",
   "metadata": {
    "vscode": {
     "languageId": "plaintext"
    }
   },
   "outputs": [],
   "source": [
    "import pandas as pd\n",
    "import numpy as np\n",
    "import torch\n",
    "import torch.nn as nn\n",
    "import torch.optim as optim\n",
    "from sklearn.model_selection import train_test_split"
   ]
  },
  {
   "cell_type": "code",
   "execution_count": 2,
   "id": "47f28bdb",
   "metadata": {
    "vscode": {
     "languageId": "plaintext"
    }
   },
   "outputs": [],
   "source": [
    "# Load your data\n",
    "investments = pd.read_csv(\"syntheticDataGenerators/investment/invest_data.csv\", sep=';')\n",
    "\n",
    "# Normalize ratings between 0 and 1 per user\n",
    "user_totals = investments.groupby('user_id')['investment_amount'].sum()\n",
    "investments['rating'] = investments.apply(lambda row: row['investment_amount'] / user_totals[row['user_id']], axis=1)\n",
    "\n",
    "# Encode user and basket IDs to integers\n",
    "user2idx = {user_id: idx for idx, user_id in enumerate(investments['user_id'].unique())}\n",
    "basket2idx = {basket: idx for idx, basket in enumerate(investments['basket_name'].unique())}\n",
    "\n",
    "investments['user_idx'] = investments['user_id'].map(user2idx)\n",
    "investments['basket_idx'] = investments['basket_name'].map(basket2idx)"
   ]
  },
  {
   "cell_type": "code",
   "execution_count": null,
   "id": "2d8d7b12",
   "metadata": {
    "vscode": {
     "languageId": "plaintext"
    }
   },
   "outputs": [],
   "source": [
    "class RecommenderNet(nn.Module):\n",
    "    def __init__(self, num_users, num_items, embedding_size=50):\n",
    "        super().__init__()\n",
    "        self.user_embedding = nn.Embedding(num_users, embedding_size)\n",
    "        self.item_embedding = nn.Embedding(num_items, embedding_size)\n",
    "        self.fc = nn.Sequential(\n",
    "            nn.Linear(embedding_size * 2, 64),\n",
    "            nn.ReLU(),\n",
    "            nn.Linear(64, 1),\n",
    "            nn.Sigmoid()\n",
    "        )\n",
    "\n",
    "    def forward(self, user_ids, item_ids):\n",
    "        user_vecs = self.user_embedding(user_ids)\n",
    "        item_vecs = self.item_embedding(item_ids)\n",
    "        combined = torch.cat([user_vecs, item_vecs], dim=1)\n",
    "        return self.fc(combined).squeeze()"
   ]
  },
  {
   "cell_type": "code",
   "execution_count": null,
   "id": "59800622",
   "metadata": {
    "vscode": {
     "languageId": "plaintext"
    }
   },
   "outputs": [
    {
     "name": "stdout",
     "output_type": "stream",
     "text": [
      "Epoch 1: Train Loss = 0.1345, Val Loss = 0.0707\n",
      "Epoch 2: Train Loss = 0.0701, Val Loss = 0.0361\n",
      "Epoch 3: Train Loss = 0.0349, Val Loss = 0.0196\n",
      "Epoch 4: Train Loss = 0.0187, Val Loss = 0.0135\n",
      "Epoch 5: Train Loss = 0.0130, Val Loss = 0.0125\n",
      "Epoch 6: Train Loss = 0.0121, Val Loss = 0.0134\n",
      "Epoch 7: Train Loss = 0.0131, Val Loss = 0.0147\n",
      "Epoch 8: Train Loss = 0.0143, Val Loss = 0.0156\n",
      "Epoch 9: Train Loss = 0.0151, Val Loss = 0.0159\n",
      "Epoch 10: Train Loss = 0.0153, Val Loss = 0.0158\n"
     ]
    }
   ],
   "source": [
    "# Prepare data\n",
    "X = investments[['user_idx', 'basket_idx']].values\n",
    "y = investments['rating'].values.astype(np.float32)\n",
    "\n",
    "X_train, X_val, y_train, y_val = train_test_split(X, y, test_size=0.2, random_state=42)\n",
    "\n",
    "# Convert to tensors\n",
    "train_users = torch.tensor(X_train[:, 0])\n",
    "train_items = torch.tensor(X_train[:, 1])\n",
    "train_ratings = torch.tensor(y_train)\n",
    "\n",
    "val_users = torch.tensor(X_val[:, 0])\n",
    "val_items = torch.tensor(X_val[:, 1])\n",
    "val_ratings = torch.tensor(y_val)\n",
    "\n",
    "# Model\n",
    "model = RecommenderNet(num_users=len(user2idx), num_items=len(basket2idx))\n",
    "criterion = nn.MSELoss()\n",
    "optimizer = optim.Adam(model.parameters(), lr=0.01)\n",
    "\n",
    "# Training loop\n",
    "epochs = 10\n",
    "for epoch in range(epochs):\n",
    "    model.train()\n",
    "    optimizer.zero_grad()\n",
    "    outputs = model(train_users, train_items)\n",
    "    loss = criterion(outputs, train_ratings)\n",
    "    loss.backward()\n",
    "    optimizer.step()\n",
    "\n",
    "    model.eval()\n",
    "    with torch.no_grad():\n",
    "        val_preds = model(val_users, val_items)\n",
    "        val_loss = criterion(val_preds, val_ratings)\n",
    "    \n",
    "    print(f\"Epoch {epoch+1}: Train Loss = {loss.item():.4f}, Val Loss = {val_loss.item():.4f}\")"
   ]
  },
  {
   "cell_type": "code",
   "execution_count": 5,
   "id": "2c63926e",
   "metadata": {
    "vscode": {
     "languageId": "plaintext"
    }
   },
   "outputs": [],
   "source": [
    "def recommend_for_users(user_ids, top_n=5):\n",
    "    model.eval()\n",
    "    all_baskets = list(basket2idx.keys())\n",
    "    \n",
    "    for user_id in user_ids:\n",
    "        user_idx = user2idx[user_id]\n",
    "        \n",
    "        already_invested = investments[investments['user_id'] == user_id]['basket_name'].unique()\n",
    "        unseen_baskets = [b for b in all_baskets if b not in already_invested]\n",
    "        basket_indices = torch.tensor([basket2idx[b] for b in unseen_baskets])\n",
    "        user_tensor = torch.tensor([user_idx] * len(basket_indices))\n",
    "\n",
    "        with torch.no_grad():\n",
    "            preds = model(user_tensor, basket_indices)\n",
    "        \n",
    "        top_indices = torch.topk(preds, top_n).indices\n",
    "        top_baskets = [(unseen_baskets[i], preds[i].item()) for i in top_indices]\n",
    "\n",
    "        print(f\"\\n🔍 Top-{top_n} Recommendations for User {user_id}:\")\n",
    "        for basket, score in top_baskets:\n",
    "            print(f\"→ {basket} (score: {score:.2f})\")\n"
   ]
  },
  {
   "cell_type": "code",
   "execution_count": 6,
   "id": "1e33c213",
   "metadata": {
    "vscode": {
     "languageId": "plaintext"
    }
   },
   "outputs": [
    {
     "name": "stdout",
     "output_type": "stream",
     "text": [
      "\n",
      "🔍 Top-5 Recommendations for User 1481:\n",
      "→ Strong value growth Europe (score: 0.32)\n",
      "→ Showbizz companies (score: 0.30)\n",
      "→ Software, Global , small mcap (score: 0.28)\n",
      "→ Nordic healthcare Facilities (score: 0.27)\n",
      "→ Cross over well performing (score: 0.27)\n",
      "\n",
      "🔍 Top-5 Recommendations for User 1970:\n",
      "→ Nordic healthcare Facilities (score: 0.24)\n",
      "→ Strong value growth Europe (score: 0.21)\n",
      "→ Software, Global , small mcap (score: 0.20)\n",
      "→ European fishing (score: 0.18)\n",
      "→ Hotels Germany (score: 0.18)\n",
      "\n",
      "🔍 Top-5 Recommendations for User 1466:\n",
      "→ Strong value growth Europe (score: 0.35)\n",
      "→ Software, Global , small mcap (score: 0.29)\n",
      "→ Showbizz companies (score: 0.28)\n",
      "→ Nordic healthcare Facilities (score: 0.27)\n",
      "→ Well performed companies (score: 0.26)\n",
      "\n",
      "🔍 Top-5 Recommendations for User 1985:\n",
      "→ Strong value growth Europe (score: 0.31)\n",
      "→ Software, Global , small mcap (score: 0.26)\n",
      "→ my best choice ever (score: 0.24)\n",
      "→ Investment Banking (score: 0.24)\n",
      "→ Food producents Finland (score: 0.23)\n",
      "\n",
      "🔍 Top-5 Recommendations for User 1852:\n",
      "→ Strong value growth Europe (score: 0.25)\n",
      "→ Showbizz companies (score: 0.22)\n",
      "→ my best choice ever (score: 0.22)\n",
      "→ Well performed companies (score: 0.21)\n",
      "→ Swedish mobile tech smallcap (score: 0.20)\n",
      "\n",
      "🔍 Top-5 Recommendations for User 1009:\n",
      "→ Well performed companies (score: 0.37)\n",
      "→ Nordic healthcare Facilities (score: 0.34)\n",
      "→ Strong value growth Europe (score: 0.34)\n",
      "→ Software Americas, small mcap (score: 0.31)\n",
      "→ European fishing (score: 0.31)\n",
      "\n",
      "🔍 Top-5 Recommendations for User 1176:\n",
      "→ Strong value growth Europe (score: 0.22)\n",
      "→ Well performed companies (score: 0.21)\n",
      "→ Nordic healthcare Facilities (score: 0.20)\n",
      "→ French Energy (score: 0.20)\n",
      "→ Cross over well performing (score: 0.19)\n",
      "\n",
      "🔍 Top-5 Recommendations for User 1401:\n",
      "→ Nordic healthcare Facilities (score: 0.32)\n",
      "→ Strong value growth Europe (score: 0.31)\n",
      "→ trending telecom (score: 0.29)\n",
      "→ Global utilities (score: 0.28)\n",
      "→ Software Americas, small mcap (score: 0.28)\n",
      "\n",
      "🔍 Top-5 Recommendations for User 1779:\n",
      "→ Strong value growth Europe (score: 0.28)\n",
      "→ Showbizz companies (score: 0.24)\n",
      "→ Software, Global , small mcap (score: 0.24)\n",
      "→ Restaurants  Bars (score: 0.20)\n",
      "→ Cross over well performing (score: 0.20)\n",
      "\n",
      "🔍 Top-5 Recommendations for User 1561:\n",
      "→ Nordic healthcare Facilities (score: 0.26)\n",
      "→ Strong value growth Europe (score: 0.26)\n",
      "→ Showbizz companies (score: 0.25)\n",
      "→ Software, Global , small mcap (score: 0.24)\n",
      "→ Swedish mobile tech smallcap (score: 0.24)\n"
     ]
    }
   ],
   "source": [
    "random_user_ids = np.random.choice(list(user2idx.keys()), size=10, replace=False)\n",
    "recommend_for_users(random_user_ids)"
   ]
  },
  {
   "cell_type": "code",
   "execution_count": null,
   "id": "51976c63-0d01-4b69-90a4-2f69c392e8c7",
   "metadata": {},
   "outputs": [],
   "source": []
  }
 ],
 "metadata": {
  "kernelspec": {
   "display_name": "Python 3 (ipykernel)",
   "language": "python",
   "name": "python3"
  },
  "language_info": {
   "codemirror_mode": {
    "name": "ipython",
    "version": 3
   },
   "file_extension": ".py",
   "mimetype": "text/x-python",
   "name": "python",
   "nbconvert_exporter": "python",
   "pygments_lexer": "ipython3",
   "version": "3.10.13"
  }
 },
 "nbformat": 4,
 "nbformat_minor": 5
}
