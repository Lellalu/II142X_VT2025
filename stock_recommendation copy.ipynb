{
 "cells": [
  {
   "cell_type": "code",
   "execution_count": 3,
   "metadata": {},
   "outputs": [
    {
     "name": "stdout",
     "output_type": "stream",
     "text": [
      "['Blended companies profitable', 'European airlines', 'Global index great valuers', 'Healthcare southern Europé', 'my best choice ever', 'Software Americas, small comp', 'Software Americas, small mcap', 'Strong value growth Europe', 'Swedish mibile tech', 'UK as a sector']\n"
     ]
    }
   ],
   "source": [
    "import pandas as pd\n",
    "import glob\n",
    "from sklearn.metrics.pairwise import cosine_similarity\n",
    "from fuzzywuzzy import process\n",
    "\n",
    "# Load basket data\n",
    "basket_df = pd.read_csv(\"data/company_basket.csv\", sep=\";\")\n",
    "\n",
    "# Load all Sweden stock data files\n",
    "stock_files = glob.glob(\"data/Sweden_*.txt\")\n",
    "stock_data = pd.concat([pd.read_csv(f, sep=\";\") for f in stock_files])\n",
    "\n",
    "# Ensure all companies have an industry and sector\n",
    "stock_data[\"industry_name\"] = stock_data[\"industry_name\"].fillna(\"Unknown\")\n",
    "stock_data[\"economic_sector_name\"] = stock_data[\"economic_sector_name\"].fillna(\"Unknown\")\n",
    "\n",
    "# One-hot encode industry_name and economic_sector_name\n",
    "industry_encoded = pd.get_dummies(stock_data[['company_name', 'industry_name']], columns=['industry_name'])\n",
    "sector_encoded = pd.get_dummies(stock_data[['company_name', 'economic_sector_name']], columns=['economic_sector_name'])\n",
    "\n",
    "# Merge one-hot encoded data to create stock_features\n",
    "stock_features = pd.concat([industry_encoded, sector_encoded.drop(\"company_name\", axis=1)], axis=1)\n",
    "\n",
    "# Group by company_name to consolidate multiple entries per company\n",
    "stock_features = stock_features.groupby(\"company_name\").sum().reset_index()\n",
    "\n",
    "# Compute cosine similarity matrix (n_basket, n_basket)\n",
    "similarity_matrix = cosine_similarity(stock_features.iloc[:, 1:].values)\n",
    "\n",
    "# Create a mapping between basket names and indices\n",
    "basket_idx = {name: idx for idx, name in enumerate(basket_df['basket_name'].unique())}\n",
    "\n",
    "# Function to find the closest matching basket title using fuzzy matching\n",
    "def basket_finder(user_input, choices, threshold=80):\n",
    "    match, score = process.extractOne(user_input, choices)\n",
    "    if score >= threshold:\n",
    "        return match\n",
    "    return None\n",
    "\n",
    "# Function to get similar baskets\n",
    "def get_similar_baskets(basket_name, n=10):\n",
    "    # Find closest matching basket\n",
    "    best_match = basket_finder(basket_name, list(basket_idx.keys()))\n",
    "    if not best_match:\n",
    "        return \"Basket not found!\"\n",
    "\n",
    "    idx = basket_idx[best_match]\n",
    "    similarity_scores = list(enumerate(similarity_matrix[idx]))\n",
    "    similarity_scores = sorted(similarity_scores, key=lambda x: x[1], reverse=True)[1:n+1]\n",
    "\n",
    "    # Get basket names corresponding to top similar indices\n",
    "    similar_baskets = [list(basket_idx.keys())[i[0]] for i in similarity_scores]\n",
    "\n",
    "    return similar_baskets\n",
    "\n",
    "# Example usage: Finding similar baskets to \"Australia tech index\"\n",
    "print(get_similar_baskets(\"Australia tech index\", n=10))\n"
   ]
  }
 ],
 "metadata": {
  "kernelspec": {
   "display_name": "venv",
   "language": "python",
   "name": "python3"
  },
  "language_info": {
   "codemirror_mode": {
    "name": "ipython",
    "version": 3
   },
   "file_extension": ".py",
   "mimetype": "text/x-python",
   "name": "python",
   "nbconvert_exporter": "python",
   "pygments_lexer": "ipython3",
   "version": "3.12.3"
  }
 },
 "nbformat": 4,
 "nbformat_minor": 2
}
